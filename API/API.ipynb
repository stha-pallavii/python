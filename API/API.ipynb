{
 "cells": [
  {
   "cell_type": "markdown",
   "id": "cb3d9491",
   "metadata": {},
   "source": [
    "## Flask Setup Practice - I"
   ]
  },
  {
   "cell_type": "code",
   "execution_count": 1,
   "id": "2fab3601",
   "metadata": {},
   "outputs": [
    {
     "ename": "ModuleNotFoundError",
     "evalue": "No module named 'flask_restful'",
     "output_type": "error",
     "traceback": [
      "\u001b[1;31m---------------------------------------------------------------------------\u001b[0m",
      "\u001b[1;31mModuleNotFoundError\u001b[0m                       Traceback (most recent call last)",
      "Cell \u001b[1;32mIn [1], line 7\u001b[0m\n\u001b[0;32m      1\u001b[0m \u001b[38;5;66;03m#flask\u001b[39;00m\n\u001b[0;32m      2\u001b[0m \n\u001b[0;32m      3\u001b[0m \u001b[38;5;66;03m#code from  https://www.geeksforgeeks.org/python-build-a-rest-api-using-flask/\u001b[39;00m\n\u001b[0;32m      4\u001b[0m \n\u001b[0;32m      5\u001b[0m \u001b[38;5;66;03m# using flask_restful\u001b[39;00m\n\u001b[0;32m      6\u001b[0m \u001b[38;5;28;01mfrom\u001b[39;00m \u001b[38;5;21;01mflask\u001b[39;00m \u001b[38;5;28;01mimport\u001b[39;00m Flask, jsonify, request\n\u001b[1;32m----> 7\u001b[0m \u001b[38;5;28;01mfrom\u001b[39;00m \u001b[38;5;21;01mflask_restful\u001b[39;00m \u001b[38;5;28;01mimport\u001b[39;00m Resource, Api\n\u001b[0;32m      9\u001b[0m \u001b[38;5;66;03m# creating the flask app\u001b[39;00m\n\u001b[0;32m     10\u001b[0m app \u001b[38;5;241m=\u001b[39m Flask(\u001b[38;5;18m__name__\u001b[39m)\n",
      "\u001b[1;31mModuleNotFoundError\u001b[0m: No module named 'flask_restful'"
     ]
    }
   ],
   "source": [
    "#flask\n",
    "\n",
    "#code from  https://www.geeksforgeeks.org/python-build-a-rest-api-using-flask/\n",
    "\n",
    "# using flask_restful\n",
    "from flask import Flask, jsonify, request\n",
    "from flask_restful import Resource, Api\n",
    "\n",
    "# creating the flask app\n",
    "app = Flask(__name__)\n",
    "# creating an API object\n",
    "api = Api(app)\n",
    "\n",
    "\n",
    "# making a class for a particular resource\n",
    "# the get, post methods correspond to get and post requests\n",
    "# they are automatically mapped by flask_restful.\n",
    "# other methods include put, delete, etc.\n",
    "class Hello(Resource):\n",
    "\n",
    "    # corresponds to the GET request.\n",
    "    # this function is called whenever there\n",
    "    # is a GET request for this resource\n",
    "    def get(self):\n",
    "        return jsonify({'message': 'hello world'})\n",
    "\n",
    "    # Corresponds to POST request\n",
    "    def post(self):\n",
    "        data = request.get_json()  # status code\n",
    "        return jsonify({'data': data}), 201\n",
    "\n",
    "\n",
    "# another resource to calculate the square of a number\n",
    "class Square(Resource):\n",
    "\n",
    "    def get(self, num):\n",
    "        return jsonify({'square': num ** 2})\n",
    "\n",
    "\n",
    "# adding the defined resources along with their corresponding urls\n",
    "api.add_resource(Hello, '/')\n",
    "api.add_resource(Square, '/square/<int:num>')\n",
    "\n",
    "# driver function\n",
    "if __name__ == '__main__':\n",
    "    app.run(debug=True)"
   ]
  },
  {
   "cell_type": "markdown",
   "id": "e8dfb613",
   "metadata": {},
   "source": [
    "## Flask Setup Practice - II"
   ]
  },
  {
   "cell_type": "code",
   "execution_count": 2,
   "id": "fa457db0",
   "metadata": {
    "scrolled": true
   },
   "outputs": [
    {
     "name": "stdout",
     "output_type": "stream",
     "text": [
      " * Serving Flask app '__main__'\n",
      " * Debug mode: on\n"
     ]
    },
    {
     "name": "stderr",
     "output_type": "stream",
     "text": [
      "WARNING: This is a development server. Do not use it in a production deployment. Use a production WSGI server instead.\n",
      " * Running on http://127.0.0.1:5000\n",
      "Press CTRL+C to quit\n",
      " * Restarting with stat\n"
     ]
    },
    {
     "ename": "SystemExit",
     "evalue": "1",
     "output_type": "error",
     "traceback": [
      "An exception has occurred, use %tb to see the full traceback.\n",
      "\u001b[1;31mSystemExit\u001b[0m\u001b[1;31m:\u001b[0m 1\n"
     ]
    },
    {
     "name": "stderr",
     "output_type": "stream",
     "text": [
      "C:\\Python\\Python310\\lib\\site-packages\\IPython\\core\\interactiveshell.py:3386: UserWarning: To exit: use 'exit', 'quit', or Ctrl-D.\n",
      "  warn(\"To exit: use 'exit', 'quit', or Ctrl-D.\", stacklevel=1)\n"
     ]
    }
   ],
   "source": [
    "from flask import Flask\n",
    "\n",
    "app = Flask(__name__)\n",
    "\n",
    "@app.route('/')\n",
    "def index():\n",
    "    return \"the test was successful\"\n",
    "\n",
    "@app.route('/pallavi')\n",
    "def pallavi():\n",
    "    return \"Hello Pallavi, the second test has also been successful.\"\n",
    "\n",
    "if __name__ == '__main__':\n",
    "    app.run(debug=True)"
   ]
  },
  {
   "cell_type": "markdown",
   "id": "c3f6f6d5",
   "metadata": {},
   "source": [
    "## API Assignment I"
   ]
  },
  {
   "cell_type": "markdown",
   "id": "957b0e1c",
   "metadata": {},
   "source": [
    "Data: https://jsonplaceholder.typicode.com/posts\n",
    "\n",
    "Questions:\n",
    "1. Create an API to list title and body of posts  in uppercase  based on the userid provided.\n",
    "2. Create an API to return no of posts of provided userid. \n",
    "3. Create an API to insert a new record.\n",
    "4. Create an API  to delete the record by id (post id ) given by the user and return the success message of the id provided.\n",
    "5. Create an API that updates title in uppercase of provided id(post id)\n",
    "6. Find any external API besides that given in the assignment. Retrieve the data from that api with the GET operation,, \n",
    "   clean the data and load it in your local as \"example.json\" file. Finally, perform all crud operations in that data."
   ]
  },
  {
   "cell_type": "code",
   "execution_count": null,
   "id": "6075ae15",
   "metadata": {},
   "outputs": [],
   "source": []
  }
 ],
 "metadata": {
  "kernelspec": {
   "display_name": "Python 3 (ipykernel)",
   "language": "python",
   "name": "python3"
  },
  "language_info": {
   "codemirror_mode": {
    "name": "ipython",
    "version": 3
   },
   "file_extension": ".py",
   "mimetype": "text/x-python",
   "name": "python",
   "nbconvert_exporter": "python",
   "pygments_lexer": "ipython3",
   "version": "3.10.2"
  }
 },
 "nbformat": 4,
 "nbformat_minor": 5
}
