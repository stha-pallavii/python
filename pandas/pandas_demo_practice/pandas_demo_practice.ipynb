{
 "cells": [
  {
   "cell_type": "code",
   "execution_count": null,
   "id": "8ce2872a",
   "metadata": {},
   "outputs": [],
   "source": [
    "#import necessary libraries\n",
    "import pandas as pd\n",
    "import numpy as np\n",
    "import matplotlib.pyplot as plt\n",
    "%matplotlib inline"
   ]
  },
  {
   "cell_type": "code",
   "execution_count": null,
   "id": "b9fb6ca2",
   "metadata": {},
   "outputs": [],
   "source": [
    "#create a series from any iterable (eg: list)\n",
    "my_list = [2,3,7,8,4,6,2,9]\n",
    "series = pd.Series(my_list)\n",
    "series"
   ]
  },
  {
   "cell_type": "markdown",
   "id": "c8028ddd",
   "metadata": {},
   "source": [
    "### Retrieve Data"
   ]
  },
  {
   "cell_type": "code",
   "execution_count": null,
   "id": "b476277f",
   "metadata": {},
   "outputs": [],
   "source": [
    "import opendatasets as od\n",
    "dataset_url = \"https://www.kaggle.com/datasets/mazenramadan/imdb-most-popular-films-and-series\"\n",
    "od.download(dataset_url)"
   ]
  },
  {
   "cell_type": "markdown",
   "id": "62e0188c",
   "metadata": {},
   "source": [
    "### Explore data"
   ]
  },
  {
   "cell_type": "markdown",
   "id": "d1f13cd1",
   "metadata": {},
   "source": [
    "#### Load dataset"
   ]
  },
  {
   "cell_type": "code",
   "execution_count": null,
   "id": "b395ea18",
   "metadata": {},
   "outputs": [],
   "source": [
    "imdb = pd.read_csv(\"imdb-most-popular-films-and-series/imdb.csv\")\n",
    "imdb"
   ]
  },
  {
   "cell_type": "code",
   "execution_count": null,
   "id": "3c62449e",
   "metadata": {},
   "outputs": [],
   "source": [
    "#print top 5 rows of dataset\n",
    "imdb.head()"
   ]
  },
  {
   "cell_type": "code",
   "execution_count": null,
   "id": "c5346c41",
   "metadata": {
    "scrolled": true
   },
   "outputs": [],
   "source": [
    "#print any number of top rows of dataset\n",
    "# df.head(number)\n",
    "\n",
    "imdb.head(10)"
   ]
  },
  {
   "cell_type": "code",
   "execution_count": null,
   "id": "5e5b71a6",
   "metadata": {},
   "outputs": [],
   "source": [
    "#print last rows of dataframe\n",
    "# df.tail()    #prints last 5 rows\n",
    "\n",
    "imdb.tail()"
   ]
  },
  {
   "cell_type": "code",
   "execution_count": null,
   "id": "ab6ee222",
   "metadata": {},
   "outputs": [],
   "source": [
    "#print any number of last rows of dataframe\n",
    "# df.tail(number)\n",
    "\n",
    "imdb.tail(15)"
   ]
  },
  {
   "cell_type": "code",
   "execution_count": null,
   "id": "6c2aaefa",
   "metadata": {},
   "outputs": [],
   "source": [
    "#see the number of rows and columns in the dataframe\n",
    "# df.shape\n",
    "\n",
    "imdb.shape"
   ]
  },
  {
   "cell_type": "code",
   "execution_count": null,
   "id": "63c6a32d",
   "metadata": {},
   "outputs": [],
   "source": [
    "#see the columns in the dataframe\n",
    "# df.columns\n",
    "\n",
    "imdb.columns"
   ]
  },
  {
   "cell_type": "code",
   "execution_count": null,
   "id": "a75c7801",
   "metadata": {},
   "outputs": [],
   "source": [
    "#see the rows in the dataframe\n",
    "# df.index\n",
    "\n",
    "imdb.index"
   ]
  },
  {
   "cell_type": "code",
   "execution_count": null,
   "id": "341cc3f8",
   "metadata": {
    "scrolled": true
   },
   "outputs": [],
   "source": [
    "#see all columns, number of columns, \n",
    "#count of non-null values in each column, and data type of each column\n",
    "# df.info()\n",
    "\n",
    "imdb.info()"
   ]
  },
  {
   "cell_type": "markdown",
   "id": "f216fd93",
   "metadata": {},
   "source": [
    "#in above output, \n",
    "RangeIndex = 6178 entries (i.e. total data = 6178 rows)\n",
    "non-null count is also 6178 in all columns\n",
    "it means no column has any null values"
   ]
  },
  {
   "cell_type": "code",
   "execution_count": null,
   "id": "31832ad0",
   "metadata": {},
   "outputs": [],
   "source": [
    "#summary statistics of numerical values\n",
    "# df.describe()\n",
    "\n",
    "imdb.describe()\n",
    "#here, the only numeric column is Date"
   ]
  },
  {
   "cell_type": "code",
   "execution_count": null,
   "id": "85ce05fe",
   "metadata": {},
   "outputs": [],
   "source": [
    "# to use describe() in object column:\n",
    "\n",
    "# df.describe(include='object')\n",
    "\n",
    "imdb.describe(include=\"object\")\n",
    "\n",
    "#output interpretation\n",
    "#Name column:\n",
    "#count = no. of rows of data in Name column = 6178\n",
    "#unique = no. of unique (non-repeated) data in Name = 4820\n",
    "#top = most repeated data in the column (highest frequency)\n",
    "#freq = frequency of the most repeated i.e. top data"
   ]
  },
  {
   "cell_type": "code",
   "execution_count": null,
   "id": "0c860320",
   "metadata": {},
   "outputs": [],
   "source": [
    "# see the data types of all columns\n",
    "# df.dtypes\n",
    "\n",
    "imdb.dtypes"
   ]
  },
  {
   "cell_type": "markdown",
   "id": "d6a48ea9",
   "metadata": {},
   "source": [
    "### Filter Data (.loc[])"
   ]
  },
  {
   "cell_type": "markdown",
   "id": "6b1890c7",
   "metadata": {},
   "source": [
    ".loc[] provides the location based on the condition provided in []\n",
    "\n",
    "new df or subset = df.loc[df.column == \"value\"]"
   ]
  },
  {
   "cell_type": "code",
   "execution_count": null,
   "id": "8f18cad3",
   "metadata": {},
   "outputs": [],
   "source": [
    "kingkong = imdb.loc[imdb.Name == \"King Kong\"]\n",
    "kingkong"
   ]
  },
  {
   "cell_type": "markdown",
   "id": "25949205",
   "metadata": {},
   "source": [
    "#### Check for the presence of null values (NaNs)\n",
    "##### df.isna() : prints whole dataframe with boolean values (True means null, False means non-null)\n",
    "##### df.isna().any():  prints list of columns, and if null value is present in the column (True/False)"
   ]
  },
  {
   "cell_type": "code",
   "execution_count": null,
   "id": "ea1ae9f7",
   "metadata": {},
   "outputs": [],
   "source": [
    "imdb.isna()"
   ]
  },
  {
   "cell_type": "code",
   "execution_count": null,
   "id": "7ed73899",
   "metadata": {},
   "outputs": [],
   "source": [
    "imdb.isna().any()"
   ]
  },
  {
   "cell_type": "markdown",
   "id": "27317af5",
   "metadata": {},
   "source": [
    "#### Select one column only"
   ]
  },
  {
   "cell_type": "code",
   "execution_count": null,
   "id": "e460305e",
   "metadata": {},
   "outputs": [],
   "source": [
    "# df.column\n",
    "# df[\"column\"]\n",
    "# returns a series\n",
    "\n",
    "imdb.Name\n",
    "imdb[\"Name\"]"
   ]
  },
  {
   "cell_type": "code",
   "execution_count": null,
   "id": "4c7326a6",
   "metadata": {},
   "outputs": [],
   "source": [
    "#check the type\n",
    "type(imdb.Name)"
   ]
  },
  {
   "cell_type": "markdown",
   "id": "6e3dff43",
   "metadata": {},
   "source": [
    "#### Select multiple columns"
   ]
  },
  {
   "cell_type": "code",
   "execution_count": null,
   "id": "ac156da1",
   "metadata": {},
   "outputs": [],
   "source": [
    "imdb[[\"Name\", \"Rate\"]]"
   ]
  },
  {
   "cell_type": "code",
   "execution_count": null,
   "id": "b41edc68",
   "metadata": {},
   "outputs": [],
   "source": [
    "## Get value in particular index of a column\n",
    "# first value of Name column = df.Name[0]\n",
    "\n",
    "imdb[\"Name\"][0]"
   ]
  },
  {
   "cell_type": "code",
   "execution_count": null,
   "id": "5afcfee0",
   "metadata": {},
   "outputs": [],
   "source": [
    "# make copy of a dataframe (perform operations on the copy so that original dataframe is unaffected)\n",
    "# new_name = df.copy()\n",
    "\n",
    "imdb1 = imdb.copy()\n",
    "imdb1.head()"
   ]
  },
  {
   "cell_type": "code",
   "execution_count": null,
   "id": "35deb6f6",
   "metadata": {},
   "outputs": [],
   "source": [
    "print(imdb1.head())"
   ]
  },
  {
   "cell_type": "markdown",
   "id": "169477c0",
   "metadata": {},
   "source": [
    "### Data Manipulation"
   ]
  },
  {
   "cell_type": "markdown",
   "id": "b2b39de3",
   "metadata": {},
   "source": [
    "In the imdb dataset, Votes column has numbers but there is comma (eg: 107,163). So it is being recognized as an object (string). To convert it into a number/integer, remove the comma first.\n",
    "This can be done by using a for loop"
   ]
  },
  {
   "cell_type": "code",
   "execution_count": null,
   "id": "5d53b08e",
   "metadata": {},
   "outputs": [],
   "source": [
    "# imdb.shape gives (row_number, column_number)\n",
    "# imdb.shape[0] means number of rows\n",
    "# for each value in range [ 0 to number of rows]:\n",
    "        #replace ',' with nothing ''\n",
    "for i in range(0,imdb1.shape[0]):\n",
    "    imdb1['Votes'][i] = imdb1['Votes'][i].replace(',', '')"
   ]
  },
  {
   "cell_type": "code",
   "execution_count": null,
   "id": "e02ae5c5",
   "metadata": {},
   "outputs": [],
   "source": [
    "imdb1.head()    #comma from Votes removed"
   ]
  },
  {
   "cell_type": "code",
   "execution_count": null,
   "id": "86d7f0d2",
   "metadata": {},
   "outputs": [],
   "source": [
    "# doing same thing using apply() function\n",
    "imdb.head()"
   ]
  },
  {
   "cell_type": "markdown",
   "id": "d6def3d8",
   "metadata": {},
   "source": [
    "### Apply function"
   ]
  },
  {
   "cell_type": "code",
   "execution_count": null,
   "id": "0b1ca43b",
   "metadata": {},
   "outputs": [],
   "source": [
    "#define a function that replaces ',' with ''\n",
    "\n",
    "def convert_votes(vote):\n",
    "    return vote.replace(',', '')\n",
    "\n",
    "#apply the function to Votes column of imdb df\n",
    "imdb[\"Votes\"] = imdb[\"Votes\"].apply(convert_votes)"
   ]
  },
  {
   "cell_type": "code",
   "execution_count": null,
   "id": "fab92666",
   "metadata": {},
   "outputs": [],
   "source": [
    "imdb.Votes      #data type is still object. Change datatype using .astype()"
   ]
  },
  {
   "cell_type": "markdown",
   "id": "000f43e5",
   "metadata": {},
   "source": [
    "### Convert Data Type:  .astype()"
   ]
  },
  {
   "cell_type": "markdown",
   "id": "0b636a75",
   "metadata": {},
   "source": [
    ".astype() takes a dictionary {} with columnname and desired datatype.  \n",
    "\n",
    ".astype() works only to convert between same form of datatype. (doesn't work for string to integer)\n",
    "\n",
    "df.astype({\"Column\":\"DataType\"})"
   ]
  },
  {
   "cell_type": "markdown",
   "id": "20ecb903",
   "metadata": {},
   "source": [
    "#### Convert from one numeric form to another (int64 to int32)"
   ]
  },
  {
   "cell_type": "code",
   "execution_count": null,
   "id": "e433c812",
   "metadata": {},
   "outputs": [],
   "source": [
    "imdb1.astype({\"Date\":\"int32\"})  #this returns the dataframe\n",
    "imdb1.astype({\"Date\":\"int32\"}).dtypes   #returns columns and their datatypes"
   ]
  },
  {
   "cell_type": "markdown",
   "id": "bfc5fcf9",
   "metadata": {},
   "source": [
    "#### Convert from string(object) form to numeric\n",
    "### pd.to_numeric()\n",
    "df[\"column\"] = pd.to_numeric(df[\"column\"], errors = \"coerce\", downcast = \"numeric_data_type\")\n"
   ]
  },
  {
   "cell_type": "code",
   "execution_count": null,
   "id": "d3f66306",
   "metadata": {},
   "outputs": [],
   "source": [
    "imdb1[\"Rate\"] = pd.to_numeric(imdb1[\"Rate\"], errors = \"coerce\", downcast = \"integer\")"
   ]
  },
  {
   "cell_type": "markdown",
   "id": "61754de0",
   "metadata": {},
   "source": [
    "##### downcast --> data type hierarchy in python\n",
    "= 'integer' means that while converting from object to numeric, it won't be downcasted lower than integer in the hierarchy."
   ]
  },
  {
   "cell_type": "code",
   "execution_count": null,
   "id": "078d8ee3",
   "metadata": {},
   "outputs": [],
   "source": [
    "imdb1.dtypes"
   ]
  },
  {
   "cell_type": "code",
   "execution_count": null,
   "id": "7ed784fb",
   "metadata": {},
   "outputs": [],
   "source": [
    "imdb1[\"Votes\"] = pd.to_numeric(imdb[\"Votes\"], errors = \"coerce\", downcast = \"integer\")\n",
    "imdb1[\"Duration\"] = pd.to_numeric(imdb[\"Duration\"], errors = \"coerce\", downcast = \"integer\")"
   ]
  },
  {
   "cell_type": "code",
   "execution_count": null,
   "id": "ad140f49",
   "metadata": {},
   "outputs": [],
   "source": [
    "imdb1.info()"
   ]
  },
  {
   "cell_type": "markdown",
   "id": "192aa00c",
   "metadata": {},
   "source": [
    "In Rate, Votes, and Duration columns, number of non-null values has decreased. This is because, values containing strings (eg: No Votes) were converted to NaN values"
   ]
  },
  {
   "cell_type": "code",
   "execution_count": null,
   "id": "a2c416c9",
   "metadata": {},
   "outputs": [],
   "source": [
    "imdb1.isnull()"
   ]
  },
  {
   "cell_type": "code",
   "execution_count": null,
   "id": "f45a5f23",
   "metadata": {},
   "outputs": [],
   "source": [
    "#check number of null values in each column\n",
    "# df.isnull().sum()\n",
    "\n",
    "imdb1.isnull().sum()"
   ]
  },
  {
   "cell_type": "code",
   "execution_count": null,
   "id": "39d65d2c",
   "metadata": {},
   "outputs": [],
   "source": [
    "imdb1.isna().sum()   #same as .isnull()"
   ]
  },
  {
   "cell_type": "code",
   "execution_count": null,
   "id": "3bb7d2b0",
   "metadata": {},
   "outputs": [],
   "source": [
    "#Now if we .describe(), Rate, Votes, Duration columns will also be described.\n",
    "imdb1.describe()"
   ]
  },
  {
   "cell_type": "code",
   "execution_count": null,
   "id": "c2db2ed8",
   "metadata": {},
   "outputs": [],
   "source": [
    "#selects entire row and checks if there is NaN value or not\n",
    "#if yes, prints NaN in that row value\n",
    "#if no, prints the data\n",
    "\n",
    "#this works only for numeric data(int, float, complex)\n",
    "imdb1.loc[:, imdb1.isna().any()]"
   ]
  },
  {
   "cell_type": "code",
   "execution_count": null,
   "id": "fe76ae82",
   "metadata": {},
   "outputs": [],
   "source": [
    "#display NaN values of a column\n",
    "#returns those rows of entire dataset, where value of the selected column is NaN\n",
    "\n",
    "imdb1[imdb1.Duration.isna()]"
   ]
  },
  {
   "cell_type": "code",
   "execution_count": null,
   "id": "d11cb47b",
   "metadata": {},
   "outputs": [],
   "source": [
    "# Axis 0 will act on all ROWS in each  COLUMN\n",
    "# Axis 1 will act on all COLUMNS in each  ROW\n",
    "\n",
    "imdb1[imdb1.isnull().any(axis=1)]\n",
    "\n",
    "#displays data for which any of the columns contain NaN value"
   ]
  },
  {
   "cell_type": "markdown",
   "id": "144f92d9",
   "metadata": {},
   "source": [
    "### Handling Missing Values"
   ]
  },
  {
   "cell_type": "markdown",
   "id": "78b022b9",
   "metadata": {},
   "source": [
    "#### dropna() removes all NaN values\n",
    "If a row has a NaN value, the entire row gets removed"
   ]
  },
  {
   "cell_type": "markdown",
   "id": "8a71d02d",
   "metadata": {},
   "source": [
    "##### Replace NaN value by 0 (for numeric columns)  using .replace(np.nan, 0)"
   ]
  },
  {
   "cell_type": "code",
   "execution_count": null,
   "id": "5f2be304",
   "metadata": {},
   "outputs": [],
   "source": [
    "imdb1[\"Rate\"]  =  imdb1[\"Rate\"].replace(np.nan, 0)\n",
    "imdb1[\"Votes\"] = imdb1[\"Votes\"].replace(np.nan, 0)\n",
    "imdb1[\"Duration\"] = imdb1[\"Duration\"].replace(np.nan, 0)"
   ]
  },
  {
   "cell_type": "markdown",
   "id": "eb4aef4a",
   "metadata": {},
   "source": [
    "#### fillna() detects NaN values and replaces with desired value"
   ]
  },
  {
   "cell_type": "code",
   "execution_count": null,
   "id": "07b2d808",
   "metadata": {},
   "outputs": [],
   "source": [
    "imdb2 = imdb.copy()\n",
    "imdb2 = imdb2.fillna(0)"
   ]
  },
  {
   "cell_type": "code",
   "execution_count": null,
   "id": "553fe9a9",
   "metadata": {},
   "outputs": [],
   "source": [
    "imdb2.describe()\n",
    "\n",
    "#minimum value of vote is 0.00000 because NaN values have been replaced with zero"
   ]
  },
  {
   "cell_type": "markdown",
   "id": "33905195",
   "metadata": {},
   "source": [
    "## Data Visualization"
   ]
  },
  {
   "cell_type": "markdown",
   "id": "d82c4bac",
   "metadata": {},
   "source": [
    "##### import seaborn library of python"
   ]
  },
  {
   "cell_type": "code",
   "execution_count": null,
   "id": "f79fc427",
   "metadata": {},
   "outputs": [],
   "source": [
    "import matplotlib.pyplot as plt\n",
    "%matplotlib inline    \n",
    "import seaborn as sns\n",
    "\n",
    "#inline enables matplotlib to display or visualize internally in notebook itself (not in another tab)"
   ]
  },
  {
   "cell_type": "markdown",
   "id": "f64f38a4",
   "metadata": {},
   "source": [
    "#### Year wise movies and web series count"
   ]
  },
  {
   "cell_type": "code",
   "execution_count": null,
   "id": "77e7a8ac",
   "metadata": {},
   "outputs": [],
   "source": [
    "plt.figure(figsize = (20, 5))\n",
    "#figsize=(20,5) means height of figure=20 and width=5 rows\n",
    "\n",
    "#To get year-wise count, keep 'Date' column in X-axis\n",
    "sns.countplot(x = imdb1[\"Date\"].sort_values(ascending=False))\n",
    "\n",
    "#the plot is created. We can rotate x-axis labels by using rotation\n",
    "plt.xticks(rotation=90)\n",
    "\n",
    "plt.show()"
   ]
  },
  {
   "cell_type": "code",
   "execution_count": null,
   "id": "e3343b46",
   "metadata": {},
   "outputs": [],
   "source": [
    "plt.figure(figsize=(10,7))\n",
    "sns.set(style=\"dark\")\n",
    "sns.histplot(data=imdb1, x=\"Rate\", color=\"brown\", binwidth=1)"
   ]
  },
  {
   "cell_type": "code",
   "execution_count": null,
   "id": "d33114d8",
   "metadata": {},
   "outputs": [],
   "source": [
    "#Rate vs Votes\n",
    "#Put rate in x-axis and votes in y-axis\n",
    "\n",
    "plt.figure(figsize = (20, 6))\n",
    "sns.scatterplot(x=imdb1.Rate, y=imdb1.Votes)\n",
    "plt.show()"
   ]
  },
  {
   "cell_type": "markdown",
   "id": "930dc641",
   "metadata": {},
   "source": [
    "#### Q1. Top 10 Films and  Series as per rating"
   ]
  },
  {
   "cell_type": "code",
   "execution_count": null,
   "id": "d635a05d",
   "metadata": {},
   "outputs": [],
   "source": [
    "top_10 = imdb1.nlargest(10, \"Rate\")\n",
    "top_10"
   ]
  },
  {
   "cell_type": "code",
   "execution_count": null,
   "id": "3f865532",
   "metadata": {},
   "outputs": [],
   "source": [
    "plt.figure(figsize = (5,6))\n",
    "plot = sns.countplot(x=\"Type\", data=top_10)"
   ]
  },
  {
   "cell_type": "code",
   "execution_count": null,
   "id": "31b6062d",
   "metadata": {},
   "outputs": [],
   "source": [
    "top_10.loc[top_10.Type==\"Film\"]"
   ]
  },
  {
   "cell_type": "code",
   "execution_count": null,
   "id": "f0e9bf11",
   "metadata": {
    "scrolled": false
   },
   "outputs": [],
   "source": [
    "top_10.loc[top_10.Type==\"Series\"]"
   ]
  },
  {
   "cell_type": "markdown",
   "id": "d92b71ab",
   "metadata": {},
   "source": [
    "#### Q2. Top 10 Films as per rating and voting"
   ]
  },
  {
   "cell_type": "code",
   "execution_count": null,
   "id": "4c9e81ea",
   "metadata": {},
   "outputs": [],
   "source": [
    "#get films only\n",
    "films = imdb1.loc[imdb1.Type==\"Film\"]"
   ]
  },
  {
   "cell_type": "code",
   "execution_count": null,
   "id": "95ac8c43",
   "metadata": {},
   "outputs": [],
   "source": [
    "#get top 10 films as per rating\n",
    "top_films = films.nlargest(10, \"Rate\")\n",
    "top_films[[\"Name\", \"Rate\"]]"
   ]
  },
  {
   "cell_type": "code",
   "execution_count": null,
   "id": "99604707",
   "metadata": {},
   "outputs": [],
   "source": [
    "#top 10 films as per voting\n",
    "top_films = films.nlargest(10, \"Votes\")\n",
    "top_films[[\"Name\", \"Votes\"]]"
   ]
  },
  {
   "cell_type": "markdown",
   "id": "aa09b73b",
   "metadata": {},
   "source": [
    "#### Q3. Get the detail of the third movie of the dataframe"
   ]
  },
  {
   "cell_type": "code",
   "execution_count": null,
   "id": "266d8ce9",
   "metadata": {},
   "outputs": [],
   "source": [
    "imdb1.iloc[2]"
   ]
  },
  {
   "cell_type": "markdown",
   "id": "852614ab",
   "metadata": {},
   "source": [
    "#### Q4 Sort movies by duration, with the longest movie at the top"
   ]
  },
  {
   "cell_type": "code",
   "execution_count": null,
   "id": "502187b7",
   "metadata": {
    "scrolled": true
   },
   "outputs": [],
   "source": [
    "imdb1.sort_values(\"Duration\", ascending=False)"
   ]
  },
  {
   "cell_type": "markdown",
   "id": "5e8d208d",
   "metadata": {},
   "source": [
    "#### Q5. List the movies belonging to each genre"
   ]
  },
  {
   "cell_type": "code",
   "execution_count": null,
   "id": "66f4a210",
   "metadata": {},
   "outputs": [],
   "source": [
    "imdb2 = imdb1.copy()"
   ]
  }
 ],
 "metadata": {
  "kernelspec": {
   "display_name": "Python 3 (ipykernel)",
   "language": "python",
   "name": "python3"
  },
  "language_info": {
   "codemirror_mode": {
    "name": "ipython",
    "version": 3
   },
   "file_extension": ".py",
   "mimetype": "text/x-python",
   "name": "python",
   "nbconvert_exporter": "python",
   "pygments_lexer": "ipython3",
   "version": "3.9.12"
  }
 },
 "nbformat": 4,
 "nbformat_minor": 5
}
