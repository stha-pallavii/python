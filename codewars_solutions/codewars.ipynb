{
 "cells": [
  {
   "cell_type": "markdown",
   "id": "cd5307c6",
   "metadata": {},
   "source": [
    "## 8kyu: Grasshopper - Messi goals function"
   ]
  },
  {
   "cell_type": "code",
   "execution_count": 5,
   "id": "3d5fe1dc",
   "metadata": {},
   "outputs": [
    {
     "name": "stdout",
     "output_type": "stream",
     "text": [
      "102\n"
     ]
    }
   ],
   "source": [
    "\"\"\"\n",
    "Messi is a soccer player with goals in three leagues:\n",
    "\n",
    "LaLiga\n",
    "Copa del Rey\n",
    "Champions\n",
    "Complete the function to return his total number of goals in all three leagues.\n",
    "\n",
    "Note: the input will always be valid.\n",
    "\n",
    "For example:\n",
    "\n",
    "5, 10, 2  -->  17\n",
    "\"\"\"\n",
    "def goals(laLiga, copaDelRey, championsLeague):\n",
    "    total_goals = laLiga + copaDelRey + championsLeague\n",
    "    return total_goals\n",
    "\n",
    "goals(5,10,2)\n",
    "print(goals(10,25,67))"
   ]
  },
  {
   "cell_type": "markdown",
   "id": "c6d7fed9",
   "metadata": {},
   "source": [
    "## 8kyu: Grasshopper - Grade book"
   ]
  },
  {
   "cell_type": "code",
   "execution_count": 13,
   "id": "733b7a4a",
   "metadata": {},
   "outputs": [
    {
     "data": {
      "text/plain": [
       "'D'"
      ]
     },
     "execution_count": 13,
     "metadata": {},
     "output_type": "execute_result"
    }
   ],
   "source": [
    "\"\"\"\n",
    "Complete the function so that it finds the average of the three scores passed to it and returns the letter value associated with that grade.\n",
    "\n",
    "Numerical Score\tLetter Grade\n",
    "90 <= score <= 100\t'A'\n",
    "80 <= score < 90\t'B'\n",
    "70 <= score < 80\t'C'\n",
    "60 <= score < 70\t'D'\n",
    "0 <= score < 60\t'F'\n",
    "Tested values are all between 0 and 100. Theres is no need to check for negative values or values greater than 100.\n",
    "\"\"\"\n",
    "def get_grade(s1, s2, s3):\n",
    "    average = (s1 + s2 + s3)/3\n",
    "    if average>=90 and average<=100:\n",
    "        return 'A'\n",
    "    if average>=80 and average<90:\n",
    "        return 'B'\n",
    "    if average>=70 and average<80:\n",
    "        return 'C'\n",
    "    if average>=60 and average<70:\n",
    "        return 'D'\n",
    "    if average>=0 and average<60:\n",
    "        return 'F'\n",
    "    \n",
    "get_grade(60,70,75)\n",
    "get_grade(35,40,30)\n",
    "get_grade(90, 91, 93)\n",
    "get_grade(80,90,75)\n",
    "get_grade(60, 65, 70)"
   ]
  },
  {
   "cell_type": "markdown",
   "id": "23ee2c4c",
   "metadata": {},
   "source": [
    "## 8kyu: Beginner Series #1 School Paperwork"
   ]
  },
  {
   "cell_type": "code",
   "execution_count": 17,
   "id": "51e8d8f8",
   "metadata": {},
   "outputs": [
    {
     "data": {
      "text/plain": [
       "25"
      ]
     },
     "execution_count": 17,
     "metadata": {},
     "output_type": "execute_result"
    }
   ],
   "source": [
    "\"\"\"\n",
    "Your classmates asked you to copy some paperwork for them. You know that there are 'n' classmates and the paperwork has 'm' pages.\n",
    "\n",
    "Your task is to calculate how many blank pages do you need. If n < 0 or m < 0 return 0.\n",
    "\n",
    "Example:\n",
    "n= 5, m=5: 25\n",
    "n=-5, m=5:  0\n",
    "\"\"\"\n",
    "def paperwork(n, m):\n",
    "    if n<0 or m<0:\n",
    "        return 0\n",
    "    else:\n",
    "        return n * m\n",
    "    \n",
    "paperwork(5,5)\n",
    "paperwork(-5,5)"
   ]
  },
  {
   "cell_type": "markdown",
   "id": "05a432f2",
   "metadata": {},
   "source": [
    "## 8kyu: Basic Mathematical Operations"
   ]
  },
  {
   "cell_type": "code",
   "execution_count": 22,
   "id": "9a4b3260",
   "metadata": {},
   "outputs": [
    {
     "data": {
      "text/plain": [
       "7.0"
      ]
     },
     "execution_count": 22,
     "metadata": {},
     "output_type": "execute_result"
    }
   ],
   "source": [
    "\"\"\"\n",
    "Your task is to create a function that does four basic mathematical operations.\n",
    "\n",
    "The function should take three arguments - operation(string/char), value1(number), value2(number).\n",
    "The function should return result of numbers after applying the chosen operation.\n",
    "\n",
    "Examples(Operator, value1, value2) --> output\n",
    "('+', 4, 7) --> 11\n",
    "('-', 15, 18) --> -3\n",
    "('*', 5, 5) --> 25\n",
    "('/', 49, 7) --> 7\n",
    "\"\"\"\n",
    "def basic_op(operator, value1, value2):\n",
    "    if operator == '+':\n",
    "        return value1 + value2\n",
    "    elif operator == '-':\n",
    "        return value1-value2\n",
    "    elif operator == '*':\n",
    "        return value1*value2\n",
    "    elif operator == '/':\n",
    "        return value1/value2\n",
    "\n",
    "basic_op('+', 4, 7)\n",
    "basic_op('-', 15, 18)    \n",
    "basic_op('*', 5, 5)\n",
    "basic_op('/', 49, 7)    "
   ]
  },
  {
   "cell_type": "markdown",
   "id": "ea691f88",
   "metadata": {},
   "source": [
    "## 8kyu: Grasshopper - Personalized Message"
   ]
  },
  {
   "cell_type": "code",
   "execution_count": 25,
   "id": "57aa8706",
   "metadata": {},
   "outputs": [
    {
     "data": {
      "text/plain": [
       "'Hello guest'"
      ]
     },
     "execution_count": 25,
     "metadata": {},
     "output_type": "execute_result"
    }
   ],
   "source": [
    "\"\"\"\n",
    "Create a function that gives a personalized greeting. This function takes two parameters: name and owner.\n",
    "\n",
    "Use conditionals to return the proper message:\n",
    "\n",
    "case\treturn\n",
    "name equals owner\t'Hello boss'\n",
    "otherwise\t'Hello guest'\n",
    "\"\"\"\n",
    "def greet(name, owner):\n",
    "    if name == owner:\n",
    "        return 'Hello boss'\n",
    "    else:\n",
    "        return 'Hello guest'\n",
    "\n",
    "greet('sam', 'sam')\n",
    "greet('harry', 'sam')"
   ]
  },
  {
   "cell_type": "markdown",
   "id": "754414dd",
   "metadata": {},
   "source": [
    "## 8kyu: Simple multiplication"
   ]
  },
  {
   "cell_type": "code",
   "execution_count": 28,
   "id": "8a597f06",
   "metadata": {},
   "outputs": [
    {
     "data": {
      "text/plain": [
       "27"
      ]
     },
     "execution_count": 28,
     "metadata": {},
     "output_type": "execute_result"
    }
   ],
   "source": [
    "\"\"\"This kata is about multiplying a given number by eight if it is an even number and by nine otherwise.\n",
    "\"\"\"\n",
    "def simple_multiplication(number) :\n",
    "    if number%2==0:\n",
    "        return number*8\n",
    "    else:\n",
    "        return number*9\n",
    "\n",
    "simple_multiplication(2)\n",
    "simple_multiplication(3)\n"
   ]
  },
  {
   "cell_type": "markdown",
   "id": "7c92cba7",
   "metadata": {},
   "source": [
    "## 8kyu: Reversing Words in a String"
   ]
  },
  {
   "cell_type": "code",
   "execution_count": 29,
   "id": "a73c4bde",
   "metadata": {},
   "outputs": [
    {
     "data": {
      "text/plain": [
       "'def order_weight(strng):\\n    sl = sorted(strng.split(\" \"))\\n    d={}\\n    for key in sl:\\n        sum=0\\n        for a in key:\\n            sum = sum + int(a)\\n        d[key]=sum\\n    result=\"\"\\n    for w in (sorted(d, key=d.get, reverse=False)):\\n        result= result + \" \" + w\\n    print(result)'"
      ]
     },
     "execution_count": 29,
     "metadata": {},
     "output_type": "execute_result"
    }
   ],
   "source": [
    "\"\"\"\n",
    "DESCRIPTION:\n",
    "You need to write a function that reverses the words in a given string. A word can also fit an empty string. If this is not clear enough, here are some examples:\n",
    "\n",
    "As the input may have trailing spaces, you will also need to ignore unneccesary whitespace.\n",
    "\n",
    "Example (Input --> Output)\n",
    "\n",
    "\"Hello World\" --> \"World Hello\"\n",
    "\"Hi There.\" --> \"There. Hi\"\n",
    "\"\"\"\n",
    "\n",
    "def reverse(st):\n",
    "    return \" \".join(w for w in st.split()[::-1])\n",
    "\n",
    "\n",
    "\"\"\"\n",
    "def reverse(st):\n",
    "    list_st = list(st.split(' '))\n",
    "    list_st.reverse()\n",
    "    result= ''\n",
    "    for i in list_st:\n",
    "        result = result + ' ' + i\n",
    "    return result.strip()\n",
    "    \"\"\""
   ]
  },
  {
   "cell_type": "markdown",
   "id": "735423ed",
   "metadata": {},
   "source": [
    "## 5kyu: Moving Zeros To The End"
   ]
  },
  {
   "cell_type": "code",
   "execution_count": 31,
   "id": "37b9f538",
   "metadata": {},
   "outputs": [
    {
     "data": {
      "text/plain": [
       "[1, 1, 2, 1, 3, 0, 0]"
      ]
     },
     "execution_count": 31,
     "metadata": {},
     "output_type": "execute_result"
    }
   ],
   "source": [
    "\"\"\"\n",
    "DESCRIPTION:\n",
    "Write an algorithm that takes an array and moves all of the zeros to the end, preserving the order of the other elements.\n",
    "\n",
    "move_zeros([1, 0, 1, 2, 0, 1, 3]) # returns [1, 1, 2, 1, 3, 0, 0]\n",
    "\"\"\"\n",
    "def move_zeros(lst):\n",
    "    list1 = []\n",
    "    list2 = []\n",
    "    for item in lst:\n",
    "        if item==0:\n",
    "            list1.append(item)\n",
    "        else:\n",
    "            list2.append(item)\n",
    "    lst = list2 + list1\n",
    "    return lst\n",
    "\n",
    "move_zeros([1, 0, 1, 2, 0, 1, 3])"
   ]
  },
  {
   "cell_type": "markdown",
   "id": "08e89302",
   "metadata": {},
   "source": [
    "## 5kyu: Simple Pig Latin"
   ]
  },
  {
   "cell_type": "code",
   "execution_count": 34,
   "id": "f734968b",
   "metadata": {},
   "outputs": [
    {
     "data": {
      "text/plain": [
       "'elloHay orldway !'"
      ]
     },
     "execution_count": 34,
     "metadata": {},
     "output_type": "execute_result"
    }
   ],
   "source": [
    "\"\"\"\n",
    "DESCRIPTION:\n",
    "Move the first letter of each word to the end of it, then add \"ay\" to the end of the word. Leave punctuation marks untouched.\n",
    "\n",
    "Examples\n",
    "pig_it('Pig latin is cool') # igPay atinlay siay oolcay\n",
    "pig_it('Hello world !')     # elloHay orldway !\n",
    "\"\"\"\n",
    "def pig_it(text):\n",
    "    st_list = list(text.split(' '))\n",
    "    result=''\n",
    "    for item in st_list:\n",
    "        newst=''\n",
    "        asic_v = ord(item[0])\n",
    "        if((asic_v>=65 and asic_v<=90) or (asic_v>=97 and asic_v<=122)):\n",
    "            newst = item[1:] + item[0] +'ay'\n",
    "            result = result + ' ' + newst\n",
    "        else:\n",
    "            result = result + ' ' + item[0]\n",
    "    return result.strip();\n",
    "\n",
    "pig_it('Pig latin is cool')\n",
    "pig_it('Hello world !')"
   ]
  },
  {
   "cell_type": "markdown",
   "id": "8d850e0f",
   "metadata": {},
   "source": [
    "## 5kyu: Weight for weight"
   ]
  },
  {
   "cell_type": "code",
   "execution_count": null,
   "id": "62868801",
   "metadata": {},
   "outputs": [],
   "source": [
    "\"\"\"\n",
    "My friend John and I are members of the \"Fat to Fit Club (FFC)\". John is worried because each month a list with the weights of members is published and each month he is the last on the list which means he is the heaviest.\n",
    "\n",
    "I am the one who establishes the list so I told him: \"Don't worry any more, I will modify the order of the list\". It was decided to attribute a \"weight\" to numbers. The weight of a number will be from now on the sum of its digits.\n",
    "\n",
    "For example 99 will have \"weight\" 18, 100 will have \"weight\" 1 so in the list 100 will come before 99.\n",
    "\n",
    "Given a string with the weights of FFC members in normal order can you give this string ordered by \"weights\" of these numbers?\n",
    "\n",
    "Example:\n",
    "\"56 65 74 100 99 68 86 180 90\" ordered by numbers weights becomes: \n",
    "\n",
    "\"100 180 90 56 65 74 68 86 99\"\n",
    "When two numbers have the same \"weight\", let us class them as if they were strings (alphabetical ordering) and not numbers:\n",
    "\n",
    "180 is before 90 since, having the same \"weight\" (9), it comes before as a string.\n",
    "\n",
    "All numbers in the list are positive numbers and the list can be empty.\n",
    "\"\"\"\n",
    "def order_weight(strng):\n",
    "    list = sorted(strng.split(' '))\n",
    "    sort_after_sum = sorted(list, key=addition)\n",
    "    return \" \".join(sort_after_sum)\n",
    "\n",
    "def addition(n):\n",
    "  return sum([int(item) for item in n])\n",
    "\n",
    "order_weight(\"56 65 74 100 99 68 86 180 90\")\n",
    "\n",
    "\n",
    "5kyu: Weight for Weight\n",
    "\n",
    "\"\"\"\n",
    "x = len(list(filter(lambda x: '5' not in str(x) , [*range(1, 16)])))\n",
    "print(x)\n",
    "\"\"\"\n",
    "\n",
    "\"\"\"def order_weight(strng):\n",
    "    sl = sorted(strng.split(\" \"))\n",
    "    d={}\n",
    "    for key in sl:\n",
    "        sum=0\n",
    "        for a in key:\n",
    "            sum = sum + int(a)\n",
    "        d[key]=sum\n",
    "    result=\"\"\n",
    "    for w in (sorted(d, key=d.get, reverse=False)):\n",
    "        result= result + \" \" + w\n",
    "    print(result)\"\"\"\n",
    "\n"
   ]
  },
  {
   "cell_type": "markdown",
   "id": "f9aa757f",
   "metadata": {},
   "source": [
    "## 4kyu: Next bigger number with the same digits"
   ]
  },
  {
   "cell_type": "code",
   "execution_count": 41,
   "id": "4b249ce8",
   "metadata": {},
   "outputs": [
    {
     "data": {
      "text/plain": [
       "-1"
      ]
     },
     "execution_count": 41,
     "metadata": {},
     "output_type": "execute_result"
    }
   ],
   "source": [
    "\"\"\"\n",
    "DESCRIPTION:\n",
    "Create a function that takes a positive integer and returns the next bigger number that can be formed by rearranging its digits. For example:\n",
    "\n",
    "12 ==> 21\n",
    "513 ==> 531\n",
    "2017 ==> 2071\n",
    "nextBigger(num: 12)   // returns 21\n",
    "nextBigger(num: 513)  // returns 531\n",
    "nextBigger(num: 2017) // returns 2071\n",
    "If the digits can't be rearranged to form a bigger number, return -1 (or nil in Swift):\n",
    "\n",
    "9 ==> -1\n",
    "111 ==> -1\n",
    "531 ==> -1\n",
    "nextBigger(num: 9)   // returns nil\n",
    "nextBigger(num: 111) // returns nil\n",
    "nextBigger(num: 531) // returns nil\n",
    "\"\"\"\n",
    "def next_bigger(n):\n",
    "    s = list(str(n))\n",
    "    for i in range(len(s)-2,-1,-1):\n",
    "        if s[i] < s[i+1]:\n",
    "            t = s[i:]\n",
    "            m = min(filter(lambda x: x>t[0], t))\n",
    "            t.remove(m)\n",
    "            t.sort()\n",
    "            s[i:] = [m] + t\n",
    "            return int(\"\".join(s))\n",
    "    return -1\n",
    "\n",
    "\n",
    "next_bigger(12)\n",
    "next_bigger(513)\n",
    "next_bigger(2017)\n",
    "next_bigger(9)\n",
    "next_bigger(111)\n",
    "next_bigger(531)\n",
    "\n",
    "\n",
    "\"\"\"\n",
    "def next_big(num):\n",
    "    num2=num\n",
    "    if(num2<10):\n",
    "        return -1\n",
    "    while(num2>9):\n",
    "        lastd=num2%10\n",
    "        num2=num2//10\n",
    "        last2d=num2%10\n",
    "        if(lastd>last2d):\n",
    "            result = (num2//10)*10+lastd\n",
    "            return result*10+last2d\n",
    "            \"\"\""
   ]
  },
  {
   "cell_type": "markdown",
   "id": "a13beb94",
   "metadata": {},
   "source": [
    "## 4kyu: Don't give me five! Really!"
   ]
  },
  {
   "cell_type": "code",
   "execution_count": 43,
   "id": "c0a67707",
   "metadata": {},
   "outputs": [
    {
     "ename": "TypeError",
     "evalue": "descriptor 'append' for 'list' objects doesn't apply to a 'int' object",
     "output_type": "error",
     "traceback": [
      "\u001b[1;31m---------------------------------------------------------------------------\u001b[0m",
      "\u001b[1;31mTypeError\u001b[0m                                 Traceback (most recent call last)",
      "Cell \u001b[1;32mIn [43], line 24\u001b[0m\n\u001b[0;32m     20\u001b[0m             \u001b[38;5;28mlist\u001b[39m\u001b[38;5;241m.\u001b[39mappend(i)\n\u001b[0;32m     21\u001b[0m     \u001b[38;5;28;01mreturn\u001b[39;00m (\u001b[38;5;28mlen\u001b[39m(\u001b[38;5;28mlist\u001b[39m))\n\u001b[1;32m---> 24\u001b[0m \u001b[43mrang\u001b[49m\u001b[43m(\u001b[49m\u001b[38;5;241;43m1\u001b[39;49m\u001b[43m,\u001b[49m\u001b[38;5;241;43m9\u001b[39;49m\u001b[43m)\u001b[49m\n\u001b[0;32m     25\u001b[0m rang(\u001b[38;5;241m4\u001b[39m,\u001b[38;5;241m17\u001b[39m)\n",
      "Cell \u001b[1;32mIn [43], line 20\u001b[0m, in \u001b[0;36mrang\u001b[1;34m(a, b)\u001b[0m\n\u001b[0;32m     18\u001b[0m \u001b[38;5;28;01mfor\u001b[39;00m i \u001b[38;5;129;01min\u001b[39;00m \u001b[38;5;28mrange\u001b[39m(a,b\u001b[38;5;241m+\u001b[39m\u001b[38;5;241m1\u001b[39m):\n\u001b[0;32m     19\u001b[0m     \u001b[38;5;28;01mif\u001b[39;00m \u001b[38;5;124m'\u001b[39m\u001b[38;5;124m5\u001b[39m\u001b[38;5;124m'\u001b[39m \u001b[38;5;129;01mnot\u001b[39;00m \u001b[38;5;129;01min\u001b[39;00m \u001b[38;5;28mstr\u001b[39m(i):\n\u001b[1;32m---> 20\u001b[0m         \u001b[38;5;28;43mlist\u001b[39;49m\u001b[38;5;241;43m.\u001b[39;49m\u001b[43mappend\u001b[49m\u001b[43m(\u001b[49m\u001b[43mi\u001b[49m\u001b[43m)\u001b[49m\n\u001b[0;32m     21\u001b[0m \u001b[38;5;28;01mreturn\u001b[39;00m (\u001b[38;5;28mlen\u001b[39m(\u001b[38;5;28mlist\u001b[39m))\n",
      "\u001b[1;31mTypeError\u001b[0m: descriptor 'append' for 'list' objects doesn't apply to a 'int' object"
     ]
    }
   ],
   "source": [
    "\"\"\"\n",
    "DESCRIPTION:\n",
    "This kata is the performance version of Don't give me five by user5036852.\n",
    "\n",
    "Your mission, should you accept it, is to return the count of all integers in a given range which do not contain the digit 5 (in base 10 representation).\n",
    "You are given the start and the end of the integer range. The start and the end are both inclusive.\n",
    "\n",
    "Examples:\n",
    "\n",
    "1,9 -> 1,2,3,4,6,7,8,9 -> return 8\n",
    "4,17 -> 4,6,7,8,9,10,11,12,13,14,16,17 -> return 12\n",
    "The result may contain fives. ;-)\n",
    "The start will always be smaller than the end. Both numbers can be also negative.\n",
    "\n",
    "The regions can be very large and there will be a large number of test cases. So brute force solutions will certainly time out!\n",
    "\"\"\"\n",
    "def rang(a,b):\n",
    "    for i in range(a,b+1):\n",
    "        if '5' not in str(i):\n",
    "            list.append(i)\n",
    "    return (len(list))\n",
    "\n",
    "\n",
    "rang(1,9)\n",
    "rang(4,17)"
   ]
  },
  {
   "cell_type": "code",
   "execution_count": null,
   "id": "a42b89b5",
   "metadata": {},
   "outputs": [],
   "source": []
  }
 ],
 "metadata": {
  "kernelspec": {
   "display_name": "Python 3 (ipykernel)",
   "language": "python",
   "name": "python3"
  },
  "language_info": {
   "codemirror_mode": {
    "name": "ipython",
    "version": 3
   },
   "file_extension": ".py",
   "mimetype": "text/x-python",
   "name": "python",
   "nbconvert_exporter": "python",
   "pygments_lexer": "ipython3",
   "version": "3.10.2"
  }
 },
 "nbformat": 4,
 "nbformat_minor": 5
}
